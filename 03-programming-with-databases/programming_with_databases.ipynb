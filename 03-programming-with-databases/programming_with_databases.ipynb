{
 "cells": [
  {
   "cell_type": "markdown",
   "metadata": {},
   "source": [
    "# Programming with Databases - Python"
   ]
  },
  {
   "cell_type": "markdown",
   "metadata": {},
   "source": [
    "This jupyter notebook is to complete exercises from a tutorial found on **https://swcarpentry.github.io/sql-novice-survey/10-prog/index.html**, where you learn how to access a SQLite database in a python environment."
   ]
  },
  {
   "cell_type": "markdown",
   "metadata": {},
   "source": [
    "### Filling a Table vs. Printing Values\n",
    "\n",
    "The first exercise is to create a new database in a file called `original.db` containing a single table caled called `Pressure`, with a single field called `reading`, and inserts 100,000 random numbers between 10.0 and 25.0."
   ]
  },
  {
   "cell_type": "code",
   "execution_count": 10,
   "metadata": {},
   "outputs": [],
   "source": [
    "import sqlite3\n",
    "# import random number generator from numpy\n",
    "from numpy.random import uniform\n",
    "\n",
    "random_numbers = uniform(low = 10.0, high = 15.0, size = 100000)\n",
    "\n",
    "connection = sqlite3.connect(\"original.db\")\n",
    "cursor = connection.cursor()\n",
    "cursor.execute(\"CREATE TABLE Pressure (reading float not null)\")\n",
    "query = \"INSERT INTO Pressure (reading) VALUES (?)\"\n",
    "\n",
    "for number in random_numbers:\n",
    "    cursor.execute(query, [number])\n",
    "\n",
    "cursor.close()\n",
    "# save changes to file for next exercise\n",
    "connection.commit()\n",
    "connection.close()"
   ]
  },
  {
   "cell_type": "markdown",
   "metadata": {},
   "source": [
    "For comparison, the cell below writes the random numbers into the file `random_numbers.txt`."
   ]
  },
  {
   "cell_type": "code",
   "execution_count": 11,
   "metadata": {},
   "outputs": [],
   "source": [
    "random_numbers = uniform(low = 10.0, high = 25.0, size = 100000)\n",
    "with open('random_numbers.txt', \"w\") as numbers:\n",
    "    for number in random_numbers:\n",
    "        numbers.write(\"{}\\n\".format(number))"
   ]
  },
  {
   "cell_type": "markdown",
   "metadata": {},
   "source": [
    "### Filtering in SQL vs Filtering in Python\n",
    "\n",
    "This exercsie is to write a program that cerates a new databse called `backup.db` with the same structure of `original.db` and copies all the values greater than 25.0 from `original.db` to `backup.db`."
   ]
  },
  {
   "cell_type": "code",
   "execution_count": 16,
   "metadata": {},
   "outputs": [],
   "source": [
    "connection_original = sqlite3.connect(\"original.db\")\n",
    "cursor_original = connection_original.cursor()\n",
    "cursor_original.execute(\" SELECT * FROM Pressure WHERE reading > 25.0; \")\n",
    "results = cursor_original.fetchall()\n",
    "cursor_original.close()\n",
    "connection_original.close()\n",
    "\n",
    "connection_backup = sqlite3.connect(\"backup.db\")\n",
    "cursor_backup = connection_backup.cursor()\n",
    "cursor_backup.execute(\" CREATE TABLE Pressure (reading float not null) \")\n",
    "query = \" INSERT INTO Pressure (reading) VALUES (?); \"\n",
    "\n",
    "for number in results:\n",
    "    cursor_backup.execute(query, number)\n",
    "\n",
    "cursor_backup.close()\n",
    "connection_backup.commit()\n",
    "connection_backup.close()"
   ]
  },
  {
   "cell_type": "markdown",
   "metadata": {},
   "source": [
    "To filter the database in python we would re-write `cursor_original.execute(\" SELECT * FROM Pressure WHERE reading > 25.0; \")` as `cursor_original.execute(\" SELECT * FROM Pressure; \")`. This just returns all the random numbers in the databse. Then we would re write the `for` loop in the above cell to iterate through the numbers in `results` and execute to `cursor_backup` if a number in `results` is greater than 25.0 using an `if` statement."
   ]
  }
 ],
 "metadata": {
  "interpreter": {
   "hash": "aee8b7b246df8f9039afb4144a1f6fd8d2ca17a180786b69acc140d282b71a49"
  },
  "kernelspec": {
   "display_name": "Python 3.10.2 64-bit",
   "language": "python",
   "name": "python3"
  },
  "language_info": {
   "codemirror_mode": {
    "name": "ipython",
    "version": 3
   },
   "file_extension": ".py",
   "mimetype": "text/x-python",
   "name": "python",
   "nbconvert_exporter": "python",
   "pygments_lexer": "ipython3",
   "version": "3.10.2"
  },
  "orig_nbformat": 4
 },
 "nbformat": 4,
 "nbformat_minor": 2
}
