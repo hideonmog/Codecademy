{
 "cells": [
  {
   "cell_type": "markdown",
   "metadata": {},
   "source": [
    "# U.S. Medical Insurance Costs"
   ]
  },
  {
   "cell_type": "markdown",
   "metadata": {},
   "source": [
    "In this project, a `.csv` file with medical insurance costs will be investigated using Python fundamentals. The goal of this project will be to analyze various attributes within `insurance.csv` to learn more about the patient information in the file and gain insight into potential use cases for the dataset."
   ]
  },
  {
   "cell_type": "code",
   "execution_count": 1,
   "metadata": {},
   "outputs": [],
   "source": [
    "# import csv\n",
    "import csv"
   ]
  },
  {
   "cell_type": "markdown",
   "metadata": {},
   "source": [
    "Import all necessary module to start. For this project we will only be using the `csv` library to work with the `insurance.csv` data. There are other potential libraries which could make help with this project's depth and experience, however for this simple analysis just the `csv` module will suffice."
   ]
  },
  {
   "cell_type": "markdown",
   "metadata": {},
   "source": [
    "The next step is to get ourselves acquainted with the data in `insurance.csv`. The file contains 7 columns: age, sex, bmi, children, smoker, region and charges, all filled with patient information (no missing data). To hold the information of these 7 attributes 7 empty lists will be created."
   ]
  },
  {
   "cell_type": "code",
   "execution_count": 2,
   "metadata": {},
   "outputs": [],
   "source": [
    "# create empty lists for eac column in insurance.csv\n",
    "ages = []\n",
    "sexes = []\n",
    "bmis = []\n",
    "num_children = []\n",
    "smoker_statuses = []\n",
    "regions = []\n",
    "insurance_charges = []"
   ]
  },
  {
   "cell_type": "markdown",
   "metadata": {},
   "source": [
    "To save ourselves from re writing code over and over again to use `insurance.csv` we will define a 'helper' function to make loading the data into the lists as efficient as possible. Without this function we would have to manually load and iterate the data 7 times."
   ]
  },
  {
   "cell_type": "code",
   "execution_count": 3,
   "metadata": {},
   "outputs": [],
   "source": [
    "# define helper function to load and write data to empty lists\n",
    "def load_list(list, csv_file, column_name):\n",
    "    # open csv file\n",
    "    with open(csv_file) as csv_info:\n",
    "        # read csv file as a dict\n",
    "        csv_dict = csv.DictReader(csv_info)\n",
    "        # iterate through each row of the file\n",
    "        for row in csv_dict:\n",
    "            # add the data from each row to a list\n",
    "            list.append(row[column_name])\n",
    "            \n",
    "        return list"
   ]
  },
  {
   "cell_type": "code",
   "execution_count": 4,
   "metadata": {},
   "outputs": [],
   "source": [
    "%%capture \n",
    "# the above executes code whilst supressing output of cell for aesthetic reasons\n",
    "# load csv file data into list\n",
    "load_list(ages, 'insurance.csv', 'age')\n",
    "load_list(sexes, 'insurance.csv', 'sex')\n",
    "load_list(bmis, 'insurance.csv', 'bmi')\n",
    "load_list(num_children, 'insurance.csv', 'children')\n",
    "load_list(smoker_statuses, 'insurance.csv', 'smoker')\n",
    "load_list(regions, 'insurance.csv', 'region')\n",
    "load_list(insurance_charges, 'insurance.csv', 'charges')"
   ]
  },
  {
   "cell_type": "markdown",
   "metadata": {},
   "source": [
    "Now that all the data has been loaded into their respective lists we can start the analysis. There are many aspects of this dataset which we could look into. For this project the following operations will be implemented.\n",
    "\n",
    "* average age of patients\n",
    "* number of males vs females counted in the dataset \n",
    "* find geographical location of the patients\n",
    "* return the average yearly medical charges of the patients\n",
    "* creating a dictionary that contains all patient information\n",
    "\n",
    "To carry out these operations, we will be making a class `PatientsInfo` which contains 5 methods: `analyse_ages()`, `analyse_sexes()`, `unique_regions()`, `average_charges()` and `create_dictionary()`."
   ]
  },
  {
   "cell_type": "code",
   "execution_count": 5,
   "metadata": {},
   "outputs": [],
   "source": [
    "class PatientsInfo:\n",
    "    def __init__(self, patients_ages, patients_sexes, patients_bmis, patients_num_of_children, patients_smoker_statuses, patients_regions, patients_charges):\n",
    "        # init method that takes in each parameter \n",
    "        self.patients_ages = patients_ages\n",
    "        self.patients_sexes = patients_sexes\n",
    "        self.patients_bmis = patients_bmis\n",
    "        self.patients_num_children = patients_num_of_children\n",
    "        self.patients_smoker_statuses = patients_smoker_statuses\n",
    "        self.patients_regions = patients_regions\n",
    "        self.patients_charges = patients_charges\n",
    "    \n",
    "    # method that calculates the average age of the patients in insurance.csv\n",
    "    def analyse_ages(self):\n",
    "        total_age = 0\n",
    "        for age in self.patients_ages:\n",
    "            total_age += int(age)\n",
    "\n",
    "        return (\"The average age of the patients is: \" + str(round(total_age/len(self.patients_ages), 2)) + \" years\")\n",
    "\n",
    "    # method that counts the number of males and females in insurance.csv\n",
    "    def analyse_sexes(self):\n",
    "        males = 0\n",
    "        females = 0\n",
    "        for sex in self.patients_sexes:\n",
    "            if sex == \"female\":\n",
    "                females += 1\n",
    "            elif sex == \"male\":\n",
    "                males += 1\n",
    "\n",
    "        print(\"Males: \" + str(males))\n",
    "        print(\"Females: \" + str(females))\n",
    "\n",
    "    # method to find the unique regions that the patients are from in insurance.csv\n",
    "    def analyse_regions(self):\n",
    "        unique_regions = []\n",
    "        for region in self.patients_regions:\n",
    "            if region not in unique_regions:\n",
    "                unique_regions.append(region)\n",
    "\n",
    "        return unique_regions\n",
    "\n",
    "    # method that calculates the average yearly medical costs of the patients in insurance.csv \n",
    "    def analyse_charges(self):\n",
    "        total_charges = 0\n",
    "        for charge in self.patients_charges:\n",
    "            total_charges += float(charge)\n",
    "        \n",
    "        return (\"The average yearly medical insurance cost incurred by the patients is: \" + str(round(total_charges/len(self.patients_charges), 2)) + \" dollars\")\n",
    "\n",
    "    # method to create a dictionary holding all the patients' information\n",
    "    def create_dictionary(self):\n",
    "        self.patients_dictionary = {}\n",
    "        self.patients_dictionary[\"age\"] = [int(age) for age in self.patients_ages]\n",
    "        self.patients_dictionary[\"sex\"] = self.patients_sexes\n",
    "        self.patients_dictionary[\"bmi\"] = self.patients_bmis\n",
    "        self.patients_dictionary[\"children\"] = self.patients_num_children\n",
    "        self.patients_dictionary[\"smoker\"] = self.patients_smoker_statuses\n",
    "        self.patients_dictionary[\"regions\"] = self.patients_regions\n",
    "        self.patients_dictionary[\"charges\"] = self.patients_charges\n",
    "\n",
    "        return self.patients_dictionary"
   ]
  },
  {
   "cell_type": "markdown",
   "metadata": {},
   "source": [
    "With our new class we must first instantiate it with `patient_info`, this allows us to use each method to see the results of the analysis."
   ]
  },
  {
   "cell_type": "code",
   "execution_count": 6,
   "metadata": {},
   "outputs": [],
   "source": [
    "patient_info = PatientsInfo(ages, sexes, bmis, num_children, smoker_statuses, regions, insurance_charges)"
   ]
  },
  {
   "cell_type": "code",
   "execution_count": 7,
   "metadata": {},
   "outputs": [
    {
     "data": {
      "text/plain": [
       "'The average age of the patients is: 39.21 years'"
      ]
     },
     "execution_count": 7,
     "metadata": {},
     "output_type": "execute_result"
    }
   ],
   "source": [
    "patient_info.analyse_ages()"
   ]
  },
  {
   "cell_type": "code",
   "execution_count": 8,
   "metadata": {},
   "outputs": [
    {
     "name": "stdout",
     "output_type": "stream",
     "text": [
      "Males: 676\n",
      "Females: 662\n"
     ]
    }
   ],
   "source": [
    "patient_info.analyse_sexes()"
   ]
  },
  {
   "cell_type": "code",
   "execution_count": 9,
   "metadata": {},
   "outputs": [
    {
     "data": {
      "text/plain": [
       "['southwest', 'southeast', 'northwest', 'northeast']"
      ]
     },
     "execution_count": 9,
     "metadata": {},
     "output_type": "execute_result"
    }
   ],
   "source": [
    "patient_info.analyse_regions()"
   ]
  },
  {
   "cell_type": "code",
   "execution_count": 10,
   "metadata": {},
   "outputs": [
    {
     "data": {
      "text/plain": [
       "'The average yearly medical insurance cost incurred by the patients is: 13270.42 dollars'"
      ]
     },
     "execution_count": 10,
     "metadata": {},
     "output_type": "execute_result"
    }
   ],
   "source": [
    "patient_info.analyse_charges()"
   ]
  },
  {
   "cell_type": "markdown",
   "metadata": {},
   "source": [
    "From the code cells above we can see that the first four methods work correctly and return the desired analysis on the data in `insurance.csv`. The next thing to do is to use our `create_dictionary()` method to organise all of the date into a dictionary. This is convenient as it allows for further analysis and manipulation of data without working in the `class` block of code."
   ]
  },
  {
   "cell_type": "code",
   "execution_count": 15,
   "metadata": {},
   "outputs": [],
   "source": [
    "patients_info_dict = patient_info.create_dictionary()\n",
    "# print(patients_info_dict)"
   ]
  }
 ],
 "metadata": {
  "interpreter": {
   "hash": "aee8b7b246df8f9039afb4144a1f6fd8d2ca17a180786b69acc140d282b71a49"
  },
  "kernelspec": {
   "display_name": "Python 3.10.2 64-bit",
   "language": "python",
   "name": "python3"
  },
  "language_info": {
   "codemirror_mode": {
    "name": "ipython",
    "version": 3
   },
   "file_extension": ".py",
   "mimetype": "text/x-python",
   "name": "python",
   "nbconvert_exporter": "python",
   "pygments_lexer": "ipython3",
   "version": "3.10.2"
  }
 },
 "nbformat": 4,
 "nbformat_minor": 4
}
